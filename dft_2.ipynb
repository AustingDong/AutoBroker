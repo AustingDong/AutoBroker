{
 "cells": [
  {
   "cell_type": "code",
   "execution_count": 1,
   "id": "94cb1948",
   "metadata": {},
   "outputs": [],
   "source": [
    "import yfinance as yf\n",
    "from datetime import date"
   ]
  },
  {
   "cell_type": "code",
   "execution_count": 2,
   "id": "b14f11b6",
   "metadata": {},
   "outputs": [
    {
     "name": "stderr",
     "output_type": "stream",
     "text": [
      "C:\\Users\\a7don\\AppData\\Local\\Temp\\ipykernel_16620\\1735293342.py:1: FutureWarning: YF.download() has changed argument auto_adjust default to True\n",
      "  df = yf.download(\"^GSPC\", period=\"5y\")\n",
      "[*********************100%***********************]  1 of 1 completed\n"
     ]
    }
   ],
   "source": [
    "df = yf.download(\"^GSPC\", period=\"5y\")"
   ]
  },
  {
   "cell_type": "code",
   "execution_count": 5,
   "id": "940a03e0",
   "metadata": {},
   "outputs": [
    {
     "data": {
      "text/plain": [
       "Date\n",
       "2020-08-03    3288.260010\n",
       "2020-08-04    3289.919922\n",
       "2020-08-05    3317.370117\n",
       "2020-08-06    3323.169922\n",
       "2020-08-07    3340.050049\n",
       "                 ...     \n",
       "2025-07-25    6370.009766\n",
       "2025-07-28    6397.689941\n",
       "2025-07-29    6405.620117\n",
       "2025-07-30    6381.229980\n",
       "2025-07-31    6427.020020\n",
       "Name: ^GSPC, Length: 1255, dtype: float64"
      ]
     },
     "execution_count": 5,
     "metadata": {},
     "output_type": "execute_result"
    }
   ],
   "source": [
    "df[\"Open\"][\"^GSPC\"]"
   ]
  }
 ],
 "metadata": {
  "kernelspec": {
   "display_name": "transformers",
   "language": "python",
   "name": "python3"
  },
  "language_info": {
   "codemirror_mode": {
    "name": "ipython",
    "version": 3
   },
   "file_extension": ".py",
   "mimetype": "text/x-python",
   "name": "python",
   "nbconvert_exporter": "python",
   "pygments_lexer": "ipython3",
   "version": "3.10.18"
  }
 },
 "nbformat": 4,
 "nbformat_minor": 5
}
